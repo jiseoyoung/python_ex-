{
 "cells": [
  {
   "cell_type": "markdown",
   "metadata": {},
   "source": [
    "# 반복문"
   ]
  },
  {
   "cell_type": "code",
   "execution_count": 1,
   "metadata": {},
   "outputs": [
    {
     "name": "stdout",
     "output_type": "stream",
     "text": [
      "True\n"
     ]
    }
   ],
   "source": [
    "a = 3\n",
    "b = 3\n",
    "print(a==b)"
   ]
  },
  {
   "cell_type": "markdown",
   "metadata": {},
   "source": [
    "# 논리연산자"
   ]
  },
  {
   "cell_type": "code",
   "execution_count": 2,
   "metadata": {},
   "outputs": [
    {
     "data": {
      "text/plain": [
       "True"
      ]
     },
     "execution_count": 2,
     "metadata": {},
     "output_type": "execute_result"
    }
   ],
   "source": [
    "True and True"
   ]
  },
  {
   "cell_type": "code",
   "execution_count": 3,
   "metadata": {},
   "outputs": [
    {
     "data": {
      "text/plain": [
       "False"
      ]
     },
     "execution_count": 3,
     "metadata": {},
     "output_type": "execute_result"
    }
   ],
   "source": [
    "a=1 \n",
    "b=2\n",
    "a>b and a<b"
   ]
  },
  {
   "cell_type": "code",
   "execution_count": 4,
   "metadata": {},
   "outputs": [
    {
     "data": {
      "text/plain": [
       "True"
      ]
     },
     "execution_count": 4,
     "metadata": {},
     "output_type": "execute_result"
    }
   ],
   "source": [
    "a>b or a<=b"
   ]
  },
  {
   "cell_type": "code",
   "execution_count": 5,
   "metadata": {},
   "outputs": [
    {
     "data": {
      "text/plain": [
       "False"
      ]
     },
     "execution_count": 5,
     "metadata": {},
     "output_type": "execute_result"
    }
   ],
   "source": [
    "not True"
   ]
  },
  {
   "cell_type": "code",
   "execution_count": 6,
   "metadata": {},
   "outputs": [
    {
     "data": {
      "text/plain": [
       "True"
      ]
     },
     "execution_count": 6,
     "metadata": {},
     "output_type": "execute_result"
    }
   ],
   "source": [
    "a = False\n",
    "not a"
   ]
  },
  {
   "cell_type": "code",
   "execution_count": 9,
   "metadata": {},
   "outputs": [
    {
     "name": "stdout",
     "output_type": "stream",
     "text": [
      "정수를 입력하세요1234\n",
      "합격입니다\n",
      "굿굿\n"
     ]
    }
   ],
   "source": [
    "score =int(input(\"정수를 입력하세요\"))\n",
    "if score>70:\n",
    "    print(\"합격입니다\")\n",
    "    print(\"굿굿\")\n",
    "else:\n",
    "    print(\"불합격입니다\")"
   ]
  },
  {
   "cell_type": "code",
   "execution_count": 10,
   "metadata": {},
   "outputs": [
    {
     "name": "stdout",
     "output_type": "stream",
     "text": [
      "정수를 입력하세요123\n",
      "축하합니다\n",
      "수고하셨습니다\n"
     ]
    }
   ],
   "source": [
    "score =int(input(\"정수를 입력하세요\"))\n",
    "if score>=70:\n",
    "    print(\"축하합니다\")\n",
    "    print(\"수고하셨습니다\")\n",
    "else:\n",
    "    print(\"수고하셨습니다\")"
   ]
  },
  {
   "cell_type": "code",
   "execution_count": 11,
   "metadata": {},
   "outputs": [
    {
     "name": "stdout",
     "output_type": "stream",
     "text": [
      "정수를 입력하세요123\n",
      "홀수입니다\n",
      "프로그램종료\n"
     ]
    }
   ],
   "source": [
    "number =int(input(\"정수를 입력하세요\"))\n",
    "if number/2==0:\n",
    "    print(\"짝수입니다\")\n",
    "    print(\"프로그램종료\")\n",
    "else:\n",
    "    print(\"홀수입니다\")\n",
    "    print(\"프로그램종료\")"
   ]
  },
  {
   "cell_type": "code",
   "execution_count": 13,
   "metadata": {},
   "outputs": [
    {
     "name": "stdout",
     "output_type": "stream",
     "text": [
      "정수를 입력하세요99\n",
      "당신의 학점은 A입니다\n",
      "장학금입니다\n"
     ]
    }
   ],
   "source": [
    "grade =int(input(\"정수를 입력하세요\"))\n",
    "if grade>=90:\n",
    "    print(\"당신의 학점은 A입니다\")\n",
    "    if grade>=98:\n",
    "        print(\"장학금입니다\")\n",
    "elif grade>=80:\n",
    "    print(\"당신의 학점은 B입니다\")\n",
    "elif grade>=70:\n",
    "    print(\"당신의 학점은 C입니다\")\n",
    "elif grade>=60:\n",
    "    print(\"당신의 학점은 D입니다\")\n",
    "else:\n",
    "    print(\"당신의 학점은 F입니다\")\n",
    "    \n",
    "    "
   ]
  },
  {
   "cell_type": "code",
   "execution_count": null,
   "metadata": {
    "collapsed": true
   },
   "outputs": [],
   "source": []
  }
 ],
 "metadata": {
  "kernelspec": {
   "display_name": "Python 3",
   "language": "python",
   "name": "python3"
  },
  "language_info": {
   "codemirror_mode": {
    "name": "ipython",
    "version": 3
   },
   "file_extension": ".py",
   "mimetype": "text/x-python",
   "name": "python",
   "nbconvert_exporter": "python",
   "pygments_lexer": "ipython3",
   "version": "3.6.3"
  }
 },
 "nbformat": 4,
 "nbformat_minor": 2
}
